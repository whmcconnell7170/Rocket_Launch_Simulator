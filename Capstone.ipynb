{
 "cells": [
  {
   "cell_type": "markdown",
   "id": "36c62af5",
   "metadata": {},
   "source": [
    "# Launch and Orbit Capstone\n",
    "### To simulate and analyze a multi-staged rocket launch to orbit"
   ]
  },
  {
   "cell_type": "markdown",
   "id": "6e93157b",
   "metadata": {},
   "source": [
    "In this project, I hope to accomplish four things\n",
    "- Establish a light framework to model a craft's ascent to orbit\n",
    "     - To include three levels of analysis\n",
    "         - Craft design\n",
    "             - Mass\n",
    "             - Staging\n",
    "             - Angle of attack\n",
    "             - dV\n",
    "         - Atmospheric Conditions\n",
    "             - Force of Gravity\n",
    "             - Drag\n",
    "         - Orbital Characteristics\n",
    "             - Perigee\n",
    "             - Apogee\n",
    "             - Inclination\n",
    "- Allow for user-input craft variables to gamify and test different designs\n",
    "- Generate graphics for important metrics\n",
    "- Optimize a 'flight plan' for the most efficient orbital insertions based on input craft variables\n",
    "    - Read simulation properties into a record to drive metanalysis"
   ]
  },
  {
   "cell_type": "markdown",
   "id": "ca480333",
   "metadata": {},
   "source": [
    "### 1. Craft Design: Starting with Tsiolkovsky Rocket equation\n",
    "\"describes the motion of vehicles that follow the basic principle of a rocket: a device that can apply acceleration to itself using thrust by expelling part of its mass with high velocity can thereby move due to the conservation of momentum.\"\n",
    "\n",
    "https://en.wikipedia.org/wiki/Tsiolkovsky_rocket_equation\n",
    "https://pressbooks.online.ucf.edu/osuniversityphysics/chapter/9-7-rocket-propulsion/#:~:text=%CE%94v%3Duln(mim)%E2%88%92g,burn%20time%20of%20the%20fuel."
   ]
  },
  {
   "cell_type": "markdown",
   "id": "d613e610",
   "metadata": {},
   "source": [
    "(dv) = (ve)ln(m0/mf) = Isp(g0)ln(m0/mf) "
   ]
  },
  {
   "cell_type": "markdown",
   "id": "602ed240",
   "metadata": {},
   "source": [
    "Where:\n",
    "- (ve) = Isp(g0) is the effective exhaust volume\n",
    "    - Isp = specific impulse in seconds\n",
    "    - ve is the specific impulse measured in m/s\n",
    "    - g0 = gravity constant = 9.80665 m/s^2\n",
    "- m0 = initial total mass including propellant (wet mass)\n",
    "- mf = final mass without propellant (dry mass)\n",
    "- dv = desired delta V (escape velocity, etc)"
   ]
  },
  {
   "cell_type": "markdown",
   "id": "9d6711ee",
   "metadata": {},
   "source": []
  },
  {
   "cell_type": "markdown",
   "id": "eddb989f",
   "metadata": {},
   "source": [
    "### 2. Atmospheric Conditions\n",
    "\n",
    "The Rocket Equation does NOT account for aerodynamic or gravitational forces which entails additional calculations:\n",
    "\n",
    "#### Tropospheric Barometric Formula\n",
    "P = Pb (((Tb-(h-hb)Lb)/Tb)^((g0M)/(RLb))\n",
    "P = Pressure as a function of varying temperature\n",
    "\n",
    "#### Stratospheric Barometric Formula\n",
    "P=Pb^((-g0M(h-hb))/RTb)\n",
    "P = Pressure where temperature does not vary with altitude\n",
    "\n",
    "Pb = Reference Pressure\n",
    "Tb = Reference Temperature (K)\n",
    "Lb = Temperature Lapse Rate (K/m) in ISA\n",
    "h = Height at which the pressure is calculated\n",
    "hb = Height of reference level b (m)\n",
    "R = Gas Constant (8.3144598 J/(mol K))\n",
    "g0 = Gravitaional acceleration (9.8 m/s^2)\n",
    "M = Molar mass of earth's air (0.029 kg/mol)\n",
    "\n",
    "\n",
    "\n",
    "\n",
    "\n",
    "https://en.wikipedia.org/wiki/Barometric_formula\n",
    "#### Drag(D) = Cd(0.5)rho(V^2)A\n",
    "- CD = Drag Coefficent\n",
    "- rho = fluid density\n",
    "- V = velocity of the body relative to the fluid\n",
    "- A = reference area perpendicular to the fluid\n",
    "\n",
    "#### Approximate Air Density rho = rho0(e^(-z/H))\n",
    "https://dspace.mit.edu/bitstream/handle/1721.1/60691/16-07-fall-2004/contents/lecture-notes/d27.pdf\n",
    "H = 8000 m is the so-called “scale height” of the atmosphere\n",
    "ρ0 is the air density at sea level. \n",
    "z = altitude in m\n",
    "\n",
    "(Added to the Rocket equation here https://dspace.mit.edu/bitstream/handle/1721.1/60691/16-07-fall-2004/contents/lecture-notes/d27.pdf)\n",
    "\n",
    "https://www.grc.nasa.gov/www/k-12/rocket/drageq.html\n",
    "\n",
    "Check this out ----- https://www.youtube.com/watch?v=mPY6lNLOiQ0\n",
    "\n",
    "#### Gravitational Acceleration = GM/(r^2)\n",
    "- G = gravity constant\n",
    "- M = Mass of the object (earth)\n",
    "- r = radius from the center point-mass to craft"
   ]
  },
  {
   "cell_type": "markdown",
   "id": "78bfd81f",
   "metadata": {},
   "source": [
    "### Import packages"
   ]
  },
  {
   "cell_type": "code",
   "execution_count": 1,
   "id": "86a9f000",
   "metadata": {},
   "outputs": [],
   "source": [
    "import numpy as np"
   ]
  },
  {
   "cell_type": "markdown",
   "id": "e571b8e8",
   "metadata": {},
   "source": [
    "### Functions"
   ]
  },
  {
   "cell_type": "code",
   "execution_count": 27,
   "id": "e4a0cb37",
   "metadata": {},
   "outputs": [
    {
     "data": {
      "text/plain": [
       "9.819973426224687"
      ]
     },
     "execution_count": 27,
     "metadata": {},
     "output_type": "execute_result"
    }
   ],
   "source": [
    "def grav_acc(r = 6371):\n",
    "    G = 6.6743 * (10**(-11)) #(m**3)/(kg * (s**2)) # gravitational constant\n",
    "    M = 5.972 * (10**24) #kg #mass of earth\n",
    "    #r = 6371 * 1000 \n",
    "    r = r * 1000 # radius from earth's core to point, sea level by default, converting to meters\n",
    "    return (G * M)/(r**2)\n",
    "\n",
    "def delta_v(isp, wm, dm):\n",
    "    ve = (isp * g)\n",
    "    return ve * np.log(wm/dm)\n",
    "grav_acc()"
   ]
  },
  {
   "cell_type": "markdown",
   "id": "688e7f45",
   "metadata": {},
   "source": [
    "### Saturn V Example"
   ]
  },
  {
   "cell_type": "code",
   "execution_count": 21,
   "id": "97a0ce58",
   "metadata": {},
   "outputs": [
    {
     "data": {
      "text/plain": [
       "3248.463417639229"
      ]
     },
     "execution_count": 21,
     "metadata": {},
     "output_type": "execute_result"
    }
   ],
   "source": [
    "delta_v(263,2900000,823000)"
   ]
  },
  {
   "cell_type": "markdown",
   "id": "d0b80268",
   "metadata": {},
   "source": [
    "### Inputs"
   ]
  },
  {
   "cell_type": "code",
   "execution_count": null,
   "id": "f32d0cc1",
   "metadata": {},
   "outputs": [],
   "source": [
    "wet_mass = int(input('Wet mass in kg = '))\n",
    "dry_mass = int(input('dry mass in kg = '))\n",
    "isp = int(input('isp = ')) #s\n",
    "#dt = int(input('burn time in seconds')) #s\n",
    "g = 9.80665 # m/s**2"
   ]
  },
  {
   "cell_type": "code",
   "execution_count": 17,
   "id": "bb312b04",
   "metadata": {},
   "outputs": [
    {
     "name": "stdout",
     "output_type": "stream",
     "text": [
      "To simulate Saturn V, type 'saturn'. For a custom vehicle, type 'custom'saturn\n",
      "Delta V = 3248.46 m/s\n",
      "MECO Mile Altitude = 160.1167618554376\n",
      "MECO Kilometer Altitude = 258.25284170231873\n"
     ]
    }
   ],
   "source": [
    "decision = input(\"To simulate Saturn V, type 'saturn'. For a custom vehicle, type 'custom'\")\n",
    "if decision == 'saturn':\n",
    "    wet_mass = 2900000 #kg\n",
    "    dry_mass = wet_mass - 2077000 #kg\n",
    "    #ve = 2580 #m/s\n",
    "    isp = 263 #sealevel\n",
    "    ve = isp * g\n",
    "    dv = ve * np.log(wet_mass/dry_mass) #m/s\n",
    "    dt = 159 #s\n",
    "    avg_a = dv/dt #not accounting for atmospheric drag # m/s**2\n",
    "    meco_alt_m = 0.5 * avg_a * (dt**2) #m\n",
    "    meco_alt_km = meco_alt_m/1000\n",
    "    meco_alt_mi = meco_alt_km * 0.62\n",
    "    print(\"Delta V =\", round(dv, 2), 'm/s')\n",
    "    #print(avg_a)\n",
    "    print(\"MECO Mile Altitude =\", meco_alt_mi)\n",
    "    print(\"MECO Kilometer Altitude =\", meco_alt_km)\n",
    "elif decision == 'custom':\n",
    "    rocket(ve, wet_mass, dry_mass)\n",
    "else:\n",
    "    print('try again')"
   ]
  }
 ],
 "metadata": {
  "kernelspec": {
   "display_name": "Python 3 (ipykernel)",
   "language": "python",
   "name": "python3"
  },
  "language_info": {
   "codemirror_mode": {
    "name": "ipython",
    "version": 3
   },
   "file_extension": ".py",
   "mimetype": "text/x-python",
   "name": "python",
   "nbconvert_exporter": "python",
   "pygments_lexer": "ipython3",
   "version": "3.11.4"
  }
 },
 "nbformat": 4,
 "nbformat_minor": 5
}
